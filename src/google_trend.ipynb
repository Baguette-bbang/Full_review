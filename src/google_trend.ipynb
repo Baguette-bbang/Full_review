{
 "cells": [
  {
   "cell_type": "code",
   "execution_count": 4,
   "metadata": {},
   "outputs": [
    {
     "name": "stdout",
     "output_type": "stream",
     "text": [
      "               0\n",
      "0       첼시 대 맨시티\n",
      "1          바르셀로나\n",
      "2       테일러 스위프트\n",
      "3      잠실역 스파이더맨\n",
      "4            최태원\n",
      "5            페이커\n",
      "6         고려거란전쟁\n",
      "7          개그콘서트\n",
      "8            PSG\n",
      "9            유연수\n",
      "10  고려 거란 전쟁 드라마\n",
      "11           최지우\n",
      "12        로또1093\n",
      "13           JDG\n",
      "14            야구\n",
      "15            축구\n",
      "16           송영길\n",
      "17        고려거란전쟁\n",
      "18         빼빼로데이\n",
      "19            나히\n"
     ]
    }
   ],
   "source": [
    "from pytrends.request import TrendReq\n",
    "pytrends = TrendReq(hl = 'ko-KR', tz=540)\n",
    "df = pytrends.trending_searches(pn = 'south_korea')\n",
    "print(df)"
   ]
  },
  {
   "cell_type": "code",
   "execution_count": 5,
   "metadata": {},
   "outputs": [
    {
     "name": "stdout",
     "output_type": "stream",
     "text": [
      "      query  value\n",
      "0     남자 패션    100\n",
      "1    패션 플러스     85\n",
      "2     여자 패션     53\n",
      "3    패션 브랜드     53\n",
      "4   매치 스 패션     51\n",
      "5    패션 디자인     41\n",
      "6     한국 패션     31\n",
      "7     여름 패션     28\n",
      "8     패션 위크     27\n",
      "9    패션 스타일     26\n",
      "10   패션 트렌드     26\n",
      "11  패션 디자이너     26\n",
      "12   패션 후르츠     25\n",
      "13   스트릿 패션     25\n",
      "14  fashion     23\n",
      "15    캐치 패션     23\n",
      "16    일본 패션     22\n",
      "17      네이버     21\n",
      "18    공항 패션     18\n",
      "19   패션 갤러리     16\n",
      "20    패션 모델     16\n",
      "21   울트라 패션     16\n",
      "22    더쿠 패션     16\n",
      "23       더쿠     16\n",
      "24    여성 패션     16\n"
     ]
    }
   ],
   "source": [
    "from pytrends.request import TrendReq\n",
    "\n",
    "pytrends = TrendReq(hl='ko-KR', tz=360)\n",
    "\n",
    "# 분석하고자 하는 키워드\n",
    "kw_list = [\"패션\"]  # 예: \"Python\"에 대한 연관 키워드를 찾고 싶은 경우\n",
    "\n",
    "# 관련 쿼리 가져오기\n",
    "pytrends.build_payload(kw_list)\n",
    "related_queries = pytrends.related_queries()\n",
    "python_related_queries = related_queries[\"패션\"][\"top\"]  # 상위 관련 쿼리\n",
    "\n",
    "print(python_related_queries)"
   ]
  },
  {
   "cell_type": "code",
   "execution_count": 6,
   "metadata": {},
   "outputs": [
    {
     "name": "stdout",
     "output_type": "stream",
     "text": [
      "Related keywords for '패션': ['  2023 패션 트렌드  ', '  패션 웹툰  ', '  패션 영어로  ', '  패션 소설  ', '  패션 뜻  ', '  패션 bl  ', '  패션 영어  ', '  남자패션  ', '  이두나 패션  ', '  삼성물산 패션  ']\n"
     ]
    }
   ],
   "source": [
    "import requests\n",
    "from bs4 import BeautifulSoup\n",
    "\n",
    "def get_naver_related_keywords(keyword):\n",
    "    url = f\"https://search.naver.com/search.naver?query={keyword}\"\n",
    "    response = requests.get(url)\n",
    "    soup = BeautifulSoup(response.text, 'html.parser')\n",
    "\n",
    "    related_keywords = []\n",
    "    for tag in soup.select('.lst_related_srch > li'):\n",
    "        related_keywords.append(tag.get_text())\n",
    "\n",
    "    return related_keywords\n",
    "\n",
    "# 키워드 예시: \"패션\"\n",
    "keyword = \"패션\"\n",
    "related_keywords = get_naver_related_keywords(keyword)\n",
    "\n",
    "print(f\"Related keywords for '{keyword}': {related_keywords}\")\n"
   ]
  },
  {
   "cell_type": "code",
   "execution_count": null,
   "metadata": {},
   "outputs": [],
   "source": []
  }
 ],
 "metadata": {
  "kernelspec": {
   "display_name": "base",
   "language": "python",
   "name": "python3"
  },
  "language_info": {
   "codemirror_mode": {
    "name": "ipython",
    "version": 3
   },
   "file_extension": ".py",
   "mimetype": "text/x-python",
   "name": "python",
   "nbconvert_exporter": "python",
   "pygments_lexer": "ipython3",
   "version": "3.9.17"
  }
 },
 "nbformat": 4,
 "nbformat_minor": 2
}
