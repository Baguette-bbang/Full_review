{
 "cells": [
  {
   "cell_type": "code",
   "execution_count": 1,
   "metadata": {},
   "outputs": [
    {
     "name": "stdout",
     "output_type": "stream",
     "text": [
      "Intel MKL WARNING: Support of Intel(R) Streaming SIMD Extensions 4.2 (Intel(R) SSE4.2) enabled only processors has been deprecated. Intel oneAPI Math Kernel Library 2025.0 will require Intel(R) Advanced Vector Extensions (Intel(R) AVX) instructions.\n",
      "Intel MKL WARNING: Support of Intel(R) Streaming SIMD Extensions 4.2 (Intel(R) SSE4.2) enabled only processors has been deprecated. Intel oneAPI Math Kernel Library 2025.0 will require Intel(R) Advanced Vector Extensions (Intel(R) AVX) instructions.\n",
      "Recommendation Score: 0.74\n"
     ]
    }
   ],
   "source": [
    "import numpy as np\n",
    "\n",
    "\n",
    "scores = [0.9906476140022278, 0.9912862181663513, 0.9904279708862305, 0.9968683123588562, 0.9988909363746643]\n",
    "labels = [1, 1, 1, 0, 0]\n",
    "product_rating = 4.0  # 5점 만점\n",
    "review_count = 100  # 리뷰 개수\n",
    "likes = 250  # 좋아요 수\n",
    "dislikes = 50  # 싫어요 수\n",
    "\n",
    "# 각 요소별 점수 계산\n",
    "review_score = sum(score if label == 1 else 1 - score for score, label in zip(scores, labels)) / len(scores)\n",
    "rating_score = product_rating / 5\n",
    "review_count_score = min(1, (np.log(review_count + 1) / np.log(100 + 1)))  # 로그 스케일 적용\n",
    "like_ratio_score = likes / (likes + dislikes)\n",
    "\n",
    "# 가중치\n",
    "weights = {\n",
    "    'review_score': 0.4,\n",
    "    'rating_score': 0.3,\n",
    "    'review_count_score': 0.1,\n",
    "    'like_ratio_score': 0.2\n",
    "}\n",
    "\n",
    "# 추천도 계산 \n",
    "recommendation_score = (\n",
    "    review_score * weights['review_score'] +\n",
    "    rating_score * weights['rating_score'] +\n",
    "    review_count_score * weights['review_count_score'] +\n",
    "    like_ratio_score * weights['like_ratio_score']\n",
    ")\n",
    "\n",
    "print(f\"Recommendation Score: {recommendation_score:.2f}\")"
   ]
  },
  {
   "cell_type": "code",
   "execution_count": null,
   "metadata": {},
   "outputs": [],
   "source": []
  }
 ],
 "metadata": {
  "kernelspec": {
   "display_name": "shoe_project",
   "language": "python",
   "name": "python3"
  },
  "language_info": {
   "codemirror_mode": {
    "name": "ipython",
    "version": 3
   },
   "file_extension": ".py",
   "mimetype": "text/x-python",
   "name": "python",
   "nbconvert_exporter": "python",
   "pygments_lexer": "ipython3",
   "version": "3.10.0"
  }
 },
 "nbformat": 4,
 "nbformat_minor": 2
}
